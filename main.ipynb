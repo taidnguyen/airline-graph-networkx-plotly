{
 "cells": [
  {
   "cell_type": "code",
   "execution_count": 1,
   "metadata": {},
   "outputs": [],
   "source": [
    "import pandas as pd\n",
    "import networkx as nx\n",
    "import matplotlib.pyplot as plt\n",
    "import plotly.graph_objects as go\n",
    "%matplotlib inline\n",
    "plt.rcParams['figure.figsize'] = (10, 9) #set figsize for all"
   ]
  },
  {
   "cell_type": "code",
   "execution_count": 2,
   "metadata": {},
   "outputs": [
    {
     "data": {
      "text/html": [
       "<div>\n",
       "<style scoped>\n",
       "    .dataframe tbody tr th:only-of-type {\n",
       "        vertical-align: middle;\n",
       "    }\n",
       "\n",
       "    .dataframe tbody tr th {\n",
       "        vertical-align: top;\n",
       "    }\n",
       "\n",
       "    .dataframe thead th {\n",
       "        text-align: right;\n",
       "    }\n",
       "</style>\n",
       "<table border=\"1\" class=\"dataframe\">\n",
       "  <thead>\n",
       "    <tr style=\"text-align: right;\">\n",
       "      <th></th>\n",
       "      <th>Name</th>\n",
       "      <th>City</th>\n",
       "      <th>Country</th>\n",
       "      <th>IATA</th>\n",
       "      <th>ICAO</th>\n",
       "      <th>Lat</th>\n",
       "      <th>Long</th>\n",
       "      <th>Alt</th>\n",
       "      <th>Timezone</th>\n",
       "      <th>DST</th>\n",
       "      <th>Tz</th>\n",
       "      <th>type</th>\n",
       "      <th>source</th>\n",
       "    </tr>\n",
       "    <tr>\n",
       "      <th>ID</th>\n",
       "      <th></th>\n",
       "      <th></th>\n",
       "      <th></th>\n",
       "      <th></th>\n",
       "      <th></th>\n",
       "      <th></th>\n",
       "      <th></th>\n",
       "      <th></th>\n",
       "      <th></th>\n",
       "      <th></th>\n",
       "      <th></th>\n",
       "      <th></th>\n",
       "      <th></th>\n",
       "    </tr>\n",
       "  </thead>\n",
       "  <tbody>\n",
       "    <tr>\n",
       "      <th>1</th>\n",
       "      <td>Goroka Airport</td>\n",
       "      <td>Goroka</td>\n",
       "      <td>Papua New Guinea</td>\n",
       "      <td>GKA</td>\n",
       "      <td>AYGA</td>\n",
       "      <td>-6.081690</td>\n",
       "      <td>145.391998</td>\n",
       "      <td>5282</td>\n",
       "      <td>10</td>\n",
       "      <td>U</td>\n",
       "      <td>Pacific/Port_Moresby</td>\n",
       "      <td>airport</td>\n",
       "      <td>OurAirports</td>\n",
       "    </tr>\n",
       "    <tr>\n",
       "      <th>2</th>\n",
       "      <td>Madang Airport</td>\n",
       "      <td>Madang</td>\n",
       "      <td>Papua New Guinea</td>\n",
       "      <td>MAG</td>\n",
       "      <td>AYMD</td>\n",
       "      <td>-5.207080</td>\n",
       "      <td>145.789001</td>\n",
       "      <td>20</td>\n",
       "      <td>10</td>\n",
       "      <td>U</td>\n",
       "      <td>Pacific/Port_Moresby</td>\n",
       "      <td>airport</td>\n",
       "      <td>OurAirports</td>\n",
       "    </tr>\n",
       "    <tr>\n",
       "      <th>3</th>\n",
       "      <td>Mount Hagen Kagamuga Airport</td>\n",
       "      <td>Mount Hagen</td>\n",
       "      <td>Papua New Guinea</td>\n",
       "      <td>HGU</td>\n",
       "      <td>AYMH</td>\n",
       "      <td>-5.826790</td>\n",
       "      <td>144.296005</td>\n",
       "      <td>5388</td>\n",
       "      <td>10</td>\n",
       "      <td>U</td>\n",
       "      <td>Pacific/Port_Moresby</td>\n",
       "      <td>airport</td>\n",
       "      <td>OurAirports</td>\n",
       "    </tr>\n",
       "    <tr>\n",
       "      <th>4</th>\n",
       "      <td>Nadzab Airport</td>\n",
       "      <td>Nadzab</td>\n",
       "      <td>Papua New Guinea</td>\n",
       "      <td>LAE</td>\n",
       "      <td>AYNZ</td>\n",
       "      <td>-6.569803</td>\n",
       "      <td>146.725977</td>\n",
       "      <td>239</td>\n",
       "      <td>10</td>\n",
       "      <td>U</td>\n",
       "      <td>Pacific/Port_Moresby</td>\n",
       "      <td>airport</td>\n",
       "      <td>OurAirports</td>\n",
       "    </tr>\n",
       "    <tr>\n",
       "      <th>5</th>\n",
       "      <td>Port Moresby Jacksons International Airport</td>\n",
       "      <td>Port Moresby</td>\n",
       "      <td>Papua New Guinea</td>\n",
       "      <td>POM</td>\n",
       "      <td>AYPY</td>\n",
       "      <td>-9.443380</td>\n",
       "      <td>147.220001</td>\n",
       "      <td>146</td>\n",
       "      <td>10</td>\n",
       "      <td>U</td>\n",
       "      <td>Pacific/Port_Moresby</td>\n",
       "      <td>airport</td>\n",
       "      <td>OurAirports</td>\n",
       "    </tr>\n",
       "  </tbody>\n",
       "</table>\n",
       "</div>"
      ],
      "text/plain": [
       "                                           Name          City  \\\n",
       "ID                                                              \n",
       "1                                Goroka Airport        Goroka   \n",
       "2                                Madang Airport        Madang   \n",
       "3                  Mount Hagen Kagamuga Airport   Mount Hagen   \n",
       "4                                Nadzab Airport        Nadzab   \n",
       "5   Port Moresby Jacksons International Airport  Port Moresby   \n",
       "\n",
       "             Country IATA  ICAO       Lat        Long   Alt Timezone DST  \\\n",
       "ID                                                                         \n",
       "1   Papua New Guinea  GKA  AYGA -6.081690  145.391998  5282       10   U   \n",
       "2   Papua New Guinea  MAG  AYMD -5.207080  145.789001    20       10   U   \n",
       "3   Papua New Guinea  HGU  AYMH -5.826790  144.296005  5388       10   U   \n",
       "4   Papua New Guinea  LAE  AYNZ -6.569803  146.725977   239       10   U   \n",
       "5   Papua New Guinea  POM  AYPY -9.443380  147.220001   146       10   U   \n",
       "\n",
       "                      Tz     type       source  \n",
       "ID                                              \n",
       "1   Pacific/Port_Moresby  airport  OurAirports  \n",
       "2   Pacific/Port_Moresby  airport  OurAirports  \n",
       "3   Pacific/Port_Moresby  airport  OurAirports  \n",
       "4   Pacific/Port_Moresby  airport  OurAirports  \n",
       "5   Pacific/Port_Moresby  airport  OurAirports  "
      ]
     },
     "execution_count": 2,
     "metadata": {},
     "output_type": "execute_result"
    }
   ],
   "source": [
    "airport_col = ['ID', 'Name', 'City', 'Country','IATA', 'ICAO', 'Lat', 'Long', 'Alt', 'Timezone', 'DST', 'Tz', 'type', 'source']\n",
    "airports = pd.read_csv('https://raw.githubusercontent.com/jpatokal/openflights/master/data/airports.dat',\n",
    "                     names=airport_col, index_col=0)\n",
    "airports.head()"
   ]
  },
  {
   "cell_type": "code",
   "execution_count": 3,
   "metadata": {},
   "outputs": [
    {
     "data": {
      "text/html": [
       "<div>\n",
       "<style scoped>\n",
       "    .dataframe tbody tr th:only-of-type {\n",
       "        vertical-align: middle;\n",
       "    }\n",
       "\n",
       "    .dataframe tbody tr th {\n",
       "        vertical-align: top;\n",
       "    }\n",
       "\n",
       "    .dataframe thead th {\n",
       "        text-align: right;\n",
       "    }\n",
       "</style>\n",
       "<table border=\"1\" class=\"dataframe\">\n",
       "  <thead>\n",
       "    <tr style=\"text-align: right;\">\n",
       "      <th></th>\n",
       "      <th>Airline_ID</th>\n",
       "      <th>Source</th>\n",
       "      <th>Source_ID</th>\n",
       "      <th>Dest</th>\n",
       "      <th>Dest_ID</th>\n",
       "      <th>Codeshare</th>\n",
       "      <th>Stops</th>\n",
       "      <th>equipment</th>\n",
       "    </tr>\n",
       "    <tr>\n",
       "      <th>Airline</th>\n",
       "      <th></th>\n",
       "      <th></th>\n",
       "      <th></th>\n",
       "      <th></th>\n",
       "      <th></th>\n",
       "      <th></th>\n",
       "      <th></th>\n",
       "      <th></th>\n",
       "    </tr>\n",
       "  </thead>\n",
       "  <tbody>\n",
       "    <tr>\n",
       "      <th>2B</th>\n",
       "      <td>410</td>\n",
       "      <td>AER</td>\n",
       "      <td>2965</td>\n",
       "      <td>KZN</td>\n",
       "      <td>2990</td>\n",
       "      <td>NaN</td>\n",
       "      <td>0</td>\n",
       "      <td>CR2</td>\n",
       "    </tr>\n",
       "    <tr>\n",
       "      <th>2B</th>\n",
       "      <td>410</td>\n",
       "      <td>ASF</td>\n",
       "      <td>2966</td>\n",
       "      <td>KZN</td>\n",
       "      <td>2990</td>\n",
       "      <td>NaN</td>\n",
       "      <td>0</td>\n",
       "      <td>CR2</td>\n",
       "    </tr>\n",
       "    <tr>\n",
       "      <th>2B</th>\n",
       "      <td>410</td>\n",
       "      <td>ASF</td>\n",
       "      <td>2966</td>\n",
       "      <td>MRV</td>\n",
       "      <td>2962</td>\n",
       "      <td>NaN</td>\n",
       "      <td>0</td>\n",
       "      <td>CR2</td>\n",
       "    </tr>\n",
       "    <tr>\n",
       "      <th>2B</th>\n",
       "      <td>410</td>\n",
       "      <td>CEK</td>\n",
       "      <td>2968</td>\n",
       "      <td>KZN</td>\n",
       "      <td>2990</td>\n",
       "      <td>NaN</td>\n",
       "      <td>0</td>\n",
       "      <td>CR2</td>\n",
       "    </tr>\n",
       "    <tr>\n",
       "      <th>2B</th>\n",
       "      <td>410</td>\n",
       "      <td>CEK</td>\n",
       "      <td>2968</td>\n",
       "      <td>OVB</td>\n",
       "      <td>4078</td>\n",
       "      <td>NaN</td>\n",
       "      <td>0</td>\n",
       "      <td>CR2</td>\n",
       "    </tr>\n",
       "  </tbody>\n",
       "</table>\n",
       "</div>"
      ],
      "text/plain": [
       "        Airline_ID Source Source_ID Dest Dest_ID Codeshare  Stops equipment\n",
       "Airline                                                                    \n",
       "2B             410    AER      2965  KZN    2990       NaN      0       CR2\n",
       "2B             410    ASF      2966  KZN    2990       NaN      0       CR2\n",
       "2B             410    ASF      2966  MRV    2962       NaN      0       CR2\n",
       "2B             410    CEK      2968  KZN    2990       NaN      0       CR2\n",
       "2B             410    CEK      2968  OVB    4078       NaN      0       CR2"
      ]
     },
     "execution_count": 3,
     "metadata": {},
     "output_type": "execute_result"
    }
   ],
   "source": [
    "route_col = ['Airline', 'Airline_ID', 'Source', 'Source_ID', 'Dest', 'Dest_ID', 'Codeshare', 'Stops', 'equipment']\n",
    "routes = pd.read_csv('https://raw.githubusercontent.com/jpatokal/openflights/master/data/routes.dat',\n",
    "                     names=route_col, index_col=0)\n",
    "routes.head()"
   ]
  },
  {
   "cell_type": "code",
   "execution_count": 4,
   "metadata": {},
   "outputs": [
    {
     "data": {
      "text/plain": [
       "United States              1512\n",
       "Canada                      430\n",
       "Australia                   334\n",
       "Brazil                      264\n",
       "Russia                      264\n",
       "                           ... \n",
       "Niue                          1\n",
       "Gibraltar                     1\n",
       "Palau                         1\n",
       "Cocos (Keeling) Islands       1\n",
       "Tuvalu                        1\n",
       "Name: Country, Length: 237, dtype: int64"
      ]
     },
     "execution_count": 4,
     "metadata": {},
     "output_type": "execute_result"
    }
   ],
   "source": [
    "airports['Country'].value_counts().sort_values(ascending=False)"
   ]
  },
  {
   "cell_type": "code",
   "execution_count": 5,
   "metadata": {},
   "outputs": [
    {
     "name": "stdout",
     "output_type": "stream",
     "text": [
      "Vietnamese airport IATAs: ['DAD', '\\\\N', 'HAN', 'NHA', 'HUI', 'PQC', 'SGN', 'DLI', 'VDH', 'VKG', 'CAH', 'VCL', 'TBB', 'BMV', 'HPH', 'CXR', 'VCS', 'VCA', 'DIN', 'UIH', 'PXU', 'VII', 'PHA', 'SQH']\n",
      "There are 244 unique flight routes in and out of Vietnam.\n"
     ]
    }
   ],
   "source": [
    "# Get Vietnam airport keys\n",
    "airport_vn_keys = airports[airports['Country'] == 'Vietnam']['IATA'].unique().tolist() #list\n",
    "print(\"Vietnamese airport IATAs: {0}\".format(airport_vn_keys))\n",
    "route_vn = routes[(routes['Source'].isin(airport_vn_keys)) | (routes['Dest'].isin(airport_vn_keys))] #df\n",
    "\n",
    "# Group by unique routes since some codeshared airlines are listed multiple times\n",
    "# this gives us the edge weight by airline count for each airport\n",
    "route_vn =  pd.DataFrame(route_vn.groupby(['Source', 'Dest']).size().reset_index(name='airline_count'))\n",
    "print(\"There are {0} unique flight routes in and out of Vietnam.\".format(len(route_vn)))"
   ]
  },
  {
   "cell_type": "code",
   "execution_count": 6,
   "metadata": {},
   "outputs": [],
   "source": [
    "# Get flight count in and out of an airport, counting both ways\n",
    "count = route_vn['Source'].append(route_vn['Dest']).value_counts()\n",
    "count = pd.DataFrame({'IATA':count.index, 'flight_count':count.values})\n",
    "\n",
    "# Merge in\n",
    "airport_vn_foreign_keys = route_vn['Source'].append(route_vn['Dest']).unique().tolist() #list\n",
    "airport_vn_foreign = pd.merge(airports[airports['IATA'].isin(airport_vn_foreign_keys)], \n",
    "                              count[count['IATA'].isin(airport_vn_foreign_keys)], \n",
    "                              on=['IATA'], how='outer') #outer full join"
   ]
  },
  {
   "cell_type": "code",
   "execution_count": 7,
   "metadata": {},
   "outputs": [],
   "source": [
    "# Assign nodes, edge df, and node df\n",
    "edge_df = route_vn\n",
    "nodes   = airport_vn_foreign_keys\n",
    "node_df = airport_vn_foreign[['IATA', 'Name', 'City', 'Country', 'Lat', 'Long', 'flight_count']]"
   ]
  },
  {
   "cell_type": "markdown",
   "metadata": {},
   "source": [
    "## Matplotlib"
   ]
  },
  {
   "cell_type": "code",
   "execution_count": 8,
   "metadata": {},
   "outputs": [],
   "source": [
    "# We start from a blank nx graph, this time with Long, Lat as node position\n",
    "G = nx.Graph()\n",
    "\n",
    "for node in nodes:\n",
    "    G.add_node(node)"
   ]
  },
  {
   "cell_type": "code",
   "execution_count": 9,
   "metadata": {},
   "outputs": [
    {
     "data": {
      "image/png": "[encoded data removed]",
      "text/plain": [
       "<Figure size 720x648 with 1 Axes>"
      ]
     },
     "metadata": {},
     "output_type": "display_data"
    }
   ],
   "source": [
    "# At every step, we can draw graph by:\n",
    "nx.draw_networkx(G)\n",
    "plt.show()"
   ]
  },
  {
   "cell_type": "code",
   "execution_count": 10,
   "metadata": {},
   "outputs": [
    {
     "data": {
      "image/png": "[encoded data removed]",
      "text/plain": [
       "<Figure size 720x648 with 1 Axes>"
      ]
     },
     "metadata": {},
     "output_type": "display_data"
    }
   ],
   "source": [
    "for index, row in edge_df.iterrows():\n",
    "    G.add_edge(row['Source'], row['Dest'], weight=row['airline_count'])\n",
    "\n",
    "nx.draw_networkx(G)\n",
    "plt.show()"
   ]
  },
  {
   "cell_type": "code",
   "execution_count": 11,
   "metadata": {},
   "outputs": [
    {
     "data": {
      "image/png": "[encoded data removed]",
      "text/plain": [
       "<Figure size 720x648 with 1 Axes>"
      ]
     },
     "metadata": {},
     "output_type": "display_data"
    }
   ],
   "source": [
    "# Get node position dict\n",
    "x, y = node_df['Long'].values, node_df['Lat'].values\n",
    "\n",
    "pos_dict = {}\n",
    "for index, iata in enumerate(node_df['IATA']):\n",
    "    pos_dict[iata] = (x[index], y[index])\n",
    "    \n",
    "for iata, coordinate in pos_dict.items():\n",
    "    G.nodes[iata]['pos'] = coordinate\n",
    "    \n",
    "nx.draw_networkx(G)\n",
    "plt.show()"
   ]
  },
  {
   "cell_type": "code",
   "execution_count": 12,
   "metadata": {},
   "outputs": [],
   "source": [
    "# ^We could have gotten here through this shorter code:\n",
    "# G = nx.from_pandas_edgelist(edge_df, pos=pos_dict, source = 'Source', target = 'Dest', edge_attr='airline_count')\n",
    "\n",
    "# nx.draw_networkx(G)\n",
    "# plt.show()"
   ]
  },
  {
   "cell_type": "markdown",
   "metadata": {},
   "source": [
    "## Plotly and Mapbox"
   ]
  },
  {
   "cell_type": "code",
   "execution_count": 25,
   "metadata": {},
   "outputs": [
    {
     "data": {
      "application/vnd.plotly.v1+json": {
       "config": {
        "plotlyServerURL": "https://plot.ly"
       },
       "data": [
        {
         "lat": [
          50.033333,
          49.012798,
          24.433000564575195,
          25.252799987800003,
          22.57710075378418,
          24.26469993591309,
          25.0777,
          35.764701843299996,
          33.585899353027344,
          35.552299,
          35.1795005798,
          14.5086,
          43.35210037231445,
          55.972599,
          11.546600341796875,
          13.410699844400003,
          22.308901000000002,
          19.897300720214844,
          15.132100105285645,
          17.988300323500003,
          22.149599,
          13.912599563599999,
          16.043899536132812,
          21.221200942993164,
          16.401500701899998,
          10.1698,
          10.8187999725,
          16.907300949099998,
          -6.1255698204,
          2.7455799579619997,
          1.35019,
          -37.673302,
          -33.94609832763672,
          40.0801010131836,
          23.39240074157715,
          22.60829925537109,
          25.101944399999997,
          24.54400062561035,
          25.935100555419922,
          30.22949981689453,
          30.578500747680664,
          31.143400192260746,
          13.681099891662598,
          37.46910095214844,
          34.8583984375,
          34.42729949951172,
          55.40879821777344,
          11.75,
          17.515,
          9.95802997234,
          9.177667,
          15.4033002853,
          13.0495996475,
          12.668299675,
          20.81940078735352,
          11.99820041656494,
          8.73183,
          10.085100173999999,
          21.3974990845,
          13.955,
          14.00450038909912,
          18.7376003265,
          27.912201,
          25.273056,
          null
         ],
         "lon": [
          8.570556,
          2.55,
          54.651100158691406,
          55.3643989563,
          120.3499984741211,
          120.62100219726562,
          121.233002,
          140.386001587,
          130.45100402832028,
          139.779999,
          128.93800354,
          121.019997,
          77.04049682617188,
          37.4146,
          104.84400177001952,
          103.81300354,
          113.915001,
          102.16100311279295,
          105.78099822998048,
          102.56300354,
          113.592003,
          100.607002258,
          108.1989974975586,
          105.80699920654295,
          107.70300293,
          103.9931,
          106.652000427,
          96.1332015991,
          106.65599823,
          101.70999908446998,
          103.994003,
          144.843002,
          151.177001953125,
          116.58499908447266,
          113.29900360107422,
          108.1719970703125,
          102.9291667,
          118.12799835205078,
          119.66300201416016,
          120.43399810791016,
          103.9469985961914,
          121.80500030517578,
          100.74700164794922,
          126.45099639892578,
          136.80499267578122,
          135.24400329589844,
          37.90629959106445,
          108.366997,
          106.590556,
          105.132379532,
          105.177778,
          108.706001282,
          109.333999634,
          108.120002747,
          106.7249984741211,
          109.21900177001952,
          106.633003,
          105.711997986,
          103.008003235,
          109.042,
          108.01699829101562,
          105.67099762,
          120.851997,
          51.608056,
          null
         ],
         "marker": {
          "size": [
           4,
           4,
           2,
           2,
           4,
           4,
           4,
           4,
           4,
           4,
           4,
           4,
           2,
           4,
           4,
           6,
           6,
           2,
           2,
           4,
           4,
           4,
           40,
           92,
           4,
           6,
           108,
           4,
           2,
           4,
           6,
           2,
           2,
           4,
           6,
           4,
           2,
           2,
           2,
           2,
           4,
           6,
           4,
           6,
           4,
           4,
           6,
           6,
           4,
           2,
           2,
           4,
           4,
           8,
           4,
           8,
           4,
           6,
           2,
           4,
           6,
           10,
           2,
           2,
           2
          ],
          "sizemode": "area",
          "sizeref": 0.1
         },
         "mode": "markers",
         "text": [
          "Frankfurt am Main Airport",
          "Charles de Gaulle International Airport",
          "Abu Dhabi International Airport",
          "Dubai International Airport",
          "Kaohsiung International Airport",
          "Taichung Ching Chuang Kang Airport",
          "Taiwan Taoyuan International Airport",
          "Narita International Airport",
          "Fukuoka Airport",
          "Tokyo Haneda International Airport",
          "Gimhae International Airport",
          "Ninoy Aquino International Airport",
          "Almaty Airport",
          "Sheremetyevo International Airport",
          "Phnom Penh International Airport",
          "Siem Reap International Airport",
          "Hong Kong International Airport",
          "Luang Phabang International Airport",
          "Pakse International Airport",
          "Wattay International Airport",
          "Macau International Airport",
          "Don Mueang International Airport",
          "Da Nang International Airport",
          "Noi Bai International Airport",
          "Phu Bai Airport",
          "Phu Quoc International Airport",
          "Tan Son Nhat International Airport",
          "Yangon International Airport",
          "Soekarno-Hatta International Airport",
          "Kuala Lumpur International Airport",
          "Singapore Changi Airport",
          "Melbourne International Airport",
          "Sydney Kingsford Smith International Airport",
          "Beijing Capital International Airport",
          "Guangzhou Baiyun International Airport",
          "Nanning Wuxu Airport",
          "Kunming Changshui International Airport",
          "Xiamen Gaoqi International Airport",
          "Fuzhou Changle International Airport",
          "Hangzhou Xiaoshan International Airport",
          "Chengdu Shuangliu International Airport",
          "Shanghai Pudong International Airport",
          "Suvarnabhumi Airport",
          "Incheon International Airport",
          "Chubu Centrair International Airport",
          "Kansai International Airport",
          "Domodedovo International Airport",
          "Lien Khuong Airport",
          "Dong Hoi Airport",
          "Rach Gia Airport",
          "Cà Mau Airport",
          "Chu Lai International Airport",
          "Dong Tac Airport",
          "Buon Ma Thuot Airport",
          "Cat Bi International Airport",
          "Cam Ranh Airport",
          "Co Ong Airport",
          "Can Tho International Airport",
          "Dien Bien Phu Airport",
          "Phu Cat Airport",
          "Pleiku Airport",
          "Vinh Airport",
          "Wenzhou Longwan International Airport",
          "Hamad International Airport",
          null
         ],
         "type": "scattermapbox"
        },
        {
         "hoverinfo": "none",
         "line": {
          "color": "red",
          "width": 5
         },
         "mode": "lines",
         "type": "scatter",
         "x": [
          77.04049682617188,
          106.652000427,
          null,
          54.651100158691406,
          106.652000427,
          null,
          100.74700164794922,
          105.80699920654295,
          null,
          100.74700164794922,
          106.652000427,
          null,
          108.120002747,
          108.1989974975586,
          null,
          108.120002747,
          105.80699920654295,
          null,
          108.120002747,
          106.652000427,
          null,
          108.120002747,
          105.67099762,
          null,
          105.177778,
          106.652000427,
          null,
          113.29900360107422,
          108.1989974975586,
          null,
          113.29900360107422,
          105.80699920654295,
          null,
          113.29900360107422,
          106.652000427,
          null,
          2.55,
          105.80699920654295,
          null,
          2.55,
          106.652000427,
          null,
          106.65599823,
          106.652000427,
          null,
          103.9469985961914,
          108.1989974975586,
          null,
          103.9469985961914,
          105.80699920654295,
          null,
          109.21900177001952,
          108.1989974975586,
          null,
          109.21900177001952,
          37.90629959106445,
          null,
          109.21900177001952,
          105.80699920654295,
          null,
          109.21900177001952,
          106.652000427,
          null,
          108.1989974975586,
          108.366997,
          null,
          108.1989974975586,
          105.80699920654295,
          null,
          108.1989974975586,
          120.43399810791016,
          null,
          108.1989974975586,
          113.915001,
          null,
          108.1989974975586,
          106.7249984741211,
          null,
          108.1989974975586,
          126.45099639892578,
          null,
          108.1989974975586,
          102.9291667,
          null,
          108.1989974975586,
          113.592003,
          null,
          108.1989974975586,
          121.80500030517578,
          null,
          108.1989974975586,
          108.01699829101562,
          null,
          108.1989974975586,
          103.81300354,
          null,
          108.1989974975586,
          106.652000427,
          null,
          108.1989974975586,
          103.994003,
          null,
          108.1989974975586,
          105.67099762,
          null,
          108.1989974975586,
          120.851997,
          null,
          108.1989974975586,
          118.12799835205078,
          null,
          103.008003235,
          105.80699920654295,
          null,
          108.366997,
          105.80699920654295,
          null,
          108.366997,
          106.652000427,
          null,
          37.90629959106445,
          105.80699920654295,
          null,
          37.90629959106445,
          106.652000427,
          null,
          100.607002258,
          105.80699920654295,
          null,
          100.607002258,
          106.652000427,
          null,
          51.608056,
          106.652000427,
          null,
          55.3643989563,
          106.652000427,
          null,
          119.66300201416016,
          106.652000427,
          null,
          8.570556,
          105.80699920654295,
          null,
          8.570556,
          106.652000427,
          null,
          130.45100402832028,
          105.80699920654295,
          null,
          130.45100402832028,
          106.652000427,
          null,
          105.80699920654295,
          113.915001,
          null,
          105.80699920654295,
          139.779999,
          null,
          105.80699920654295,
          107.70300293,
          null,
          105.80699920654295,
          126.45099639892578,
          null,
          105.80699920654295,
          120.3499984741211,
          null,
          105.80699920654295,
          135.24400329589844,
          null,
          105.80699920654295,
          101.70999908446998,
          null,
          105.80699920654295,
          102.16100311279295,
          null,
          105.80699920654295,
          113.592003,
          null,
          105.80699920654295,
          121.019997,
          null,
          105.80699920654295,
          136.80499267578122,
          null,
          105.80699920654295,
          108.1719970703125,
          null,
          105.80699920654295,
          140.386001587,
          null,
          105.80699920654295,
          116.58499908447266,
          null,
          105.80699920654295,
          104.84400177001952,
          null,
          105.80699920654295,
          103.9931,
          null,
          105.80699920654295,
          128.93800354,
          null,
          105.80699920654295,
          121.80500030517578,
          null,
          105.80699920654295,
          108.01699829101562,
          null,
          105.80699920654295,
          103.81300354,
          null,
          105.80699920654295,
          96.1332015991,
          null,
          105.80699920654295,
          120.62100219726562,
          null,
          105.80699920654295,
          106.652000427,
          null,
          105.80699920654295,
          103.994003,
          null,
          105.80699920654295,
          37.4146,
          null,
          105.80699920654295,
          109.333999634,
          null,
          105.80699920654295,
          121.233002,
          null,
          105.80699920654295,
          109.042,
          null,
          105.80699920654295,
          105.711997986,
          null,
          105.80699920654295,
          108.706001282,
          null,
          105.80699920654295,
          106.590556,
          null,
          105.80699920654295,
          105.67099762,
          null,
          105.80699920654295,
          102.56300354,
          null,
          113.915001,
          106.652000427,
          null,
          139.779999,
          106.652000427,
          null,
          106.7249984741211,
          106.652000427,
          null,
          107.70300293,
          106.652000427,
          null,
          126.45099639892578,
          106.652000427,
          null,
          120.3499984741211,
          106.652000427,
          null,
          135.24400329589844,
          106.652000427,
          null,
          101.70999908446998,
          106.652000427,
          null,
          144.843002,
          106.652000427,
          null,
          121.019997,
          106.652000427,
          null,
          136.80499267578122,
          106.652000427,
          null,
          108.1719970703125,
          106.652000427,
          null,
          140.386001587,
          106.652000427,
          null,
          116.58499908447266,
          106.652000427,
          null,
          105.78099822998048,
          106.652000427,
          null,
          104.84400177001952,
          106.652000427,
          null,
          103.9931,
          106.652000427,
          null,
          103.9931,
          105.711997986,
          null,
          128.93800354,
          106.652000427,
          null,
          121.80500030517578,
          106.652000427,
          null,
          108.01699829101562,
          106.652000427,
          null,
          103.81300354,
          106.652000427,
          null,
          96.1332015991,
          106.652000427,
          null,
          120.62100219726562,
          106.652000427,
          null,
          106.652000427,
          103.994003,
          null,
          106.652000427,
          37.4146,
          null,
          106.652000427,
          151.177001953125,
          null,
          106.652000427,
          109.333999634,
          null,
          106.652000427,
          null,
          null,
          106.652000427,
          121.233002,
          null,
          106.652000427,
          109.042,
          null,
          106.652000427,
          108.706001282,
          null,
          106.652000427,
          106.633003,
          null,
          106.652000427,
          106.590556,
          null,
          106.652000427,
          105.67099762,
          null,
          106.652000427,
          105.132379532,
          null,
          105.711997986,
          106.633003,
          null,
          105.67099762,
          102.56300354,
          null
         ],
         "y": [
          43.35210037231445,
          10.8187999725,
          null,
          24.433000564575195,
          10.8187999725,
          null,
          13.681099891662598,
          21.221200942993164,
          null,
          13.681099891662598,
          10.8187999725,
          null,
          12.668299675,
          16.043899536132812,
          null,
          12.668299675,
          21.221200942993164,
          null,
          12.668299675,
          10.8187999725,
          null,
          12.668299675,
          18.7376003265,
          null,
          9.177667,
          10.8187999725,
          null,
          23.39240074157715,
          16.043899536132812,
          null,
          23.39240074157715,
          21.221200942993164,
          null,
          23.39240074157715,
          10.8187999725,
          null,
          49.012798,
          21.221200942993164,
          null,
          49.012798,
          10.8187999725,
          null,
          -6.1255698204,
          10.8187999725,
          null,
          30.578500747680664,
          16.043899536132812,
          null,
          30.578500747680664,
          21.221200942993164,
          null,
          11.99820041656494,
          16.043899536132812,
          null,
          11.99820041656494,
          55.40879821777344,
          null,
          11.99820041656494,
          21.221200942993164,
          null,
          11.99820041656494,
          10.8187999725,
          null,
          16.043899536132812,
          11.75,
          null,
          16.043899536132812,
          21.221200942993164,
          null,
          16.043899536132812,
          30.22949981689453,
          null,
          16.043899536132812,
          22.308901000000002,
          null,
          16.043899536132812,
          20.81940078735352,
          null,
          16.043899536132812,
          37.46910095214844,
          null,
          16.043899536132812,
          25.101944399999997,
          null,
          16.043899536132812,
          22.149599,
          null,
          16.043899536132812,
          31.143400192260746,
          null,
          16.043899536132812,
          14.00450038909912,
          null,
          16.043899536132812,
          13.410699844400003,
          null,
          16.043899536132812,
          10.8187999725,
          null,
          16.043899536132812,
          1.35019,
          null,
          16.043899536132812,
          18.7376003265,
          null,
          16.043899536132812,
          27.912201,
          null,
          16.043899536132812,
          24.54400062561035,
          null,
          21.3974990845,
          21.221200942993164,
          null,
          11.75,
          21.221200942993164,
          null,
          11.75,
          10.8187999725,
          null,
          55.40879821777344,
          21.221200942993164,
          null,
          55.40879821777344,
          10.8187999725,
          null,
          13.912599563599999,
          21.221200942993164,
          null,
          13.912599563599999,
          10.8187999725,
          null,
          25.273056,
          10.8187999725,
          null,
          25.252799987800003,
          10.8187999725,
          null,
          25.935100555419922,
          10.8187999725,
          null,
          50.033333,
          21.221200942993164,
          null,
          50.033333,
          10.8187999725,
          null,
          33.585899353027344,
          21.221200942993164,
          null,
          33.585899353027344,
          10.8187999725,
          null,
          21.221200942993164,
          22.308901000000002,
          null,
          21.221200942993164,
          35.552299,
          null,
          21.221200942993164,
          16.401500701899998,
          null,
          21.221200942993164,
          37.46910095214844,
          null,
          21.221200942993164,
          22.57710075378418,
          null,
          21.221200942993164,
          34.42729949951172,
          null,
          21.221200942993164,
          2.7455799579619997,
          null,
          21.221200942993164,
          19.897300720214844,
          null,
          21.221200942993164,
          22.149599,
          null,
          21.221200942993164,
          14.5086,
          null,
          21.221200942993164,
          34.8583984375,
          null,
          21.221200942993164,
          22.60829925537109,
          null,
          21.221200942993164,
          35.764701843299996,
          null,
          21.221200942993164,
          40.0801010131836,
          null,
          21.221200942993164,
          11.546600341796875,
          null,
          21.221200942993164,
          10.1698,
          null,
          21.221200942993164,
          35.1795005798,
          null,
          21.221200942993164,
          31.143400192260746,
          null,
          21.221200942993164,
          14.00450038909912,
          null,
          21.221200942993164,
          13.410699844400003,
          null,
          21.221200942993164,
          16.907300949099998,
          null,
          21.221200942993164,
          24.26469993591309,
          null,
          21.221200942993164,
          10.8187999725,
          null,
          21.221200942993164,
          1.35019,
          null,
          21.221200942993164,
          55.972599,
          null,
          21.221200942993164,
          13.0495996475,
          null,
          21.221200942993164,
          25.0777,
          null,
          21.221200942993164,
          13.955,
          null,
          21.221200942993164,
          10.085100173999999,
          null,
          21.221200942993164,
          15.4033002853,
          null,
          21.221200942993164,
          17.515,
          null,
          21.221200942993164,
          18.7376003265,
          null,
          21.221200942993164,
          17.988300323500003,
          null,
          22.308901000000002,
          10.8187999725,
          null,
          35.552299,
          10.8187999725,
          null,
          20.81940078735352,
          10.8187999725,
          null,
          16.401500701899998,
          10.8187999725,
          null,
          37.46910095214844,
          10.8187999725,
          null,
          22.57710075378418,
          10.8187999725,
          null,
          34.42729949951172,
          10.8187999725,
          null,
          2.7455799579619997,
          10.8187999725,
          null,
          -37.673302,
          10.8187999725,
          null,
          14.5086,
          10.8187999725,
          null,
          34.8583984375,
          10.8187999725,
          null,
          22.60829925537109,
          10.8187999725,
          null,
          35.764701843299996,
          10.8187999725,
          null,
          40.0801010131836,
          10.8187999725,
          null,
          15.132100105285645,
          10.8187999725,
          null,
          11.546600341796875,
          10.8187999725,
          null,
          10.1698,
          10.8187999725,
          null,
          10.1698,
          10.085100173999999,
          null,
          35.1795005798,
          10.8187999725,
          null,
          31.143400192260746,
          10.8187999725,
          null,
          14.00450038909912,
          10.8187999725,
          null,
          13.410699844400003,
          10.8187999725,
          null,
          16.907300949099998,
          10.8187999725,
          null,
          24.26469993591309,
          10.8187999725,
          null,
          10.8187999725,
          1.35019,
          null,
          10.8187999725,
          55.972599,
          null,
          10.8187999725,
          -33.94609832763672,
          null,
          10.8187999725,
          13.0495996475,
          null,
          10.8187999725,
          null,
          null,
          10.8187999725,
          25.0777,
          null,
          10.8187999725,
          13.955,
          null,
          10.8187999725,
          15.4033002853,
          null,
          10.8187999725,
          8.73183,
          null,
          10.8187999725,
          17.515,
          null,
          10.8187999725,
          18.7376003265,
          null,
          10.8187999725,
          9.95802997234,
          null,
          10.085100173999999,
          8.73183,
          null,
          18.7376003265,
          17.988300323500003,
          null
         ]
        }
       ],
       "layout": {
        "hovermode": "closest",
        "mapbox": {
         "accesstoken": "pk.eyJ1IjoidGFpbmd1eWVuNzU5NyIsImEiOiJjazhtNW44b2MwazRlM2xwaGMyNnZ3Z3Q1In0.3w5rF6awL9ewLph5PH-r1g\n",
         "bearing": 0,
         "center": {
          "lat": 16,
          "lon": 107
         },
         "pitch": 0,
         "zoom": 5
        },
        "template": {
         "data": {
          "bar": [
           {
            "error_x": {
             "color": "#2a3f5f"
            },
            "error_y": {
             "color": "#2a3f5f"
            },
            "marker": {
             "line": {
              "color": "#E5ECF6",
              "width": 0.5
             }
            },
            "type": "bar"
           }
          ],
          "barpolar": [
           {
            "marker": {
             "line": {
              "color": "#E5ECF6",
              "width": 0.5
             }
            },
            "type": "barpolar"
           }
          ],
          "carpet": [
           {
            "aaxis": {
             "endlinecolor": "#2a3f5f",
             "gridcolor": "white",
             "linecolor": "white",
             "minorgridcolor": "white",
             "startlinecolor": "#2a3f5f"
            },
            "baxis": {
             "endlinecolor": "#2a3f5f",
             "gridcolor": "white",
             "linecolor": "white",
             "minorgridcolor": "white",
             "startlinecolor": "#2a3f5f"
            },
            "type": "carpet"
           }
          ],
          "choropleth": [
           {
            "colorbar": {
             "outlinewidth": 0,
             "ticks": ""
            },
            "type": "choropleth"
           }
          ],
          "contour": [
           {
            "colorbar": {
             "outlinewidth": 0,
             "ticks": ""
            },
            "colorscale": [
             [
              0,
              "#0d0887"
             ],
             [
              0.1111111111111111,
              "#46039f"
             ],
             [
              0.2222222222222222,
              "#7201a8"
             ],
             [
              0.3333333333333333,
              "#9c179e"
             ],
             [
              0.4444444444444444,
              "#bd3786"
             ],
             [
              0.5555555555555556,
              "#d8576b"
             ],
             [
              0.6666666666666666,
              "#ed7953"
             ],
             [
              0.7777777777777778,
              "#fb9f3a"
             ],
             [
              0.8888888888888888,
              "#fdca26"
             ],
             [
              1,
              "#f0f921"
             ]
            ],
            "type": "contour"
           }
          ],
          "contourcarpet": [
           {
            "colorbar": {
             "outlinewidth": 0,
             "ticks": ""
            },
            "type": "contourcarpet"
           }
          ],
          "heatmap": [
           {
            "colorbar": {
             "outlinewidth": 0,
             "ticks": ""
            },
            "colorscale": [
             [
              0,
              "#0d0887"
             ],
             [
              0.1111111111111111,
              "#46039f"
             ],
             [
              0.2222222222222222,
              "#7201a8"
             ],
             [
              0.3333333333333333,
              "#9c179e"
             ],
             [
              0.4444444444444444,
              "#bd3786"
             ],
             [
              0.5555555555555556,
              "#d8576b"
             ],
             [
              0.6666666666666666,
              "#ed7953"
             ],
             [
              0.7777777777777778,
              "#fb9f3a"
             ],
             [
              0.8888888888888888,
              "#fdca26"
             ],
             [
              1,
              "#f0f921"
             ]
            ],
            "type": "heatmap"
           }
          ],
          "heatmapgl": [
           {
            "colorbar": {
             "outlinewidth": 0,
             "ticks": ""
            },
            "colorscale": [
             [
              0,
              "#0d0887"
             ],
             [
              0.1111111111111111,
              "#46039f"
             ],
             [
              0.2222222222222222,
              "#7201a8"
             ],
             [
              0.3333333333333333,
              "#9c179e"
             ],
             [
              0.4444444444444444,
              "#bd3786"
             ],
             [
              0.5555555555555556,
              "#d8576b"
             ],
             [
              0.6666666666666666,
              "#ed7953"
             ],
             [
              0.7777777777777778,
              "#fb9f3a"
             ],
             [
              0.8888888888888888,
              "#fdca26"
             ],
             [
              1,
              "#f0f921"
             ]
            ],
            "type": "heatmapgl"
           }
          ],
          "histogram": [
           {
            "marker": {
             "colorbar": {
              "outlinewidth": 0,
              "ticks": ""
             }
            },
            "type": "histogram"
           }
          ],
          "histogram2d": [
           {
            "colorbar": {
             "outlinewidth": 0,
             "ticks": ""
            },
            "colorscale": [
             [
              0,
              "#0d0887"
             ],
             [
              0.1111111111111111,
              "#46039f"
             ],
             [
              0.2222222222222222,
              "#7201a8"
             ],
             [
              0.3333333333333333,
              "#9c179e"
             ],
             [
              0.4444444444444444,
              "#bd3786"
             ],
             [
              0.5555555555555556,
              "#d8576b"
             ],
             [
              0.6666666666666666,
              "#ed7953"
             ],
             [
              0.7777777777777778,
              "#fb9f3a"
             ],
             [
              0.8888888888888888,
              "#fdca26"
             ],
             [
              1,
              "#f0f921"
             ]
            ],
            "type": "histogram2d"
           }
          ],
          "histogram2dcontour": [
           {
            "colorbar": {
             "outlinewidth": 0,
             "ticks": ""
            },
            "colorscale": [
             [
              0,
              "#0d0887"
             ],
             [
              0.1111111111111111,
              "#46039f"
             ],
             [
              0.2222222222222222,
              "#7201a8"
             ],
             [
              0.3333333333333333,
              "#9c179e"
             ],
             [
              0.4444444444444444,
              "#bd3786"
             ],
             [
              0.5555555555555556,
              "#d8576b"
             ],
             [
              0.6666666666666666,
              "#ed7953"
             ],
             [
              0.7777777777777778,
              "#fb9f3a"
             ],
             [
              0.8888888888888888,
              "#fdca26"
             ],
             [
              1,
              "#f0f921"
             ]
            ],
            "type": "histogram2dcontour"
           }
          ],
          "mesh3d": [
           {
            "colorbar": {
             "outlinewidth": 0,
             "ticks": ""
            },
            "type": "mesh3d"
           }
          ],
          "parcoords": [
           {
            "line": {
             "colorbar": {
              "outlinewidth": 0,
              "ticks": ""
             }
            },
            "type": "parcoords"
           }
          ],
          "pie": [
           {
            "automargin": true,
            "type": "pie"
           }
          ],
          "scatter": [
           {
            "marker": {
             "colorbar": {
              "outlinewidth": 0,
              "ticks": ""
             }
            },
            "type": "scatter"
           }
          ],
          "scatter3d": [
           {
            "line": {
             "colorbar": {
              "outlinewidth": 0,
              "ticks": ""
             }
            },
            "marker": {
             "colorbar": {
              "outlinewidth": 0,
              "ticks": ""
             }
            },
            "type": "scatter3d"
           }
          ],
          "scattercarpet": [
           {
            "marker": {
             "colorbar": {
              "outlinewidth": 0,
              "ticks": ""
             }
            },
            "type": "scattercarpet"
           }
          ],
          "scattergeo": [
           {
            "marker": {
             "colorbar": {
              "outlinewidth": 0,
              "ticks": ""
             }
            },
            "type": "scattergeo"
           }
          ],
          "scattergl": [
           {
            "marker": {
             "colorbar": {
              "outlinewidth": 0,
              "ticks": ""
             }
            },
            "type": "scattergl"
           }
          ],
          "scattermapbox": [
           {
            "marker": {
             "colorbar": {
              "outlinewidth": 0,
              "ticks": ""
             }
            },
            "type": "scattermapbox"
           }
          ],
          "scatterpolar": [
           {
            "marker": {
             "colorbar": {
              "outlinewidth": 0,
              "ticks": ""
             }
            },
            "type": "scatterpolar"
           }
          ],
          "scatterpolargl": [
           {
            "marker": {
             "colorbar": {
              "outlinewidth": 0,
              "ticks": ""
             }
            },
            "type": "scatterpolargl"
           }
          ],
          "scatterternary": [
           {
            "marker": {
             "colorbar": {
              "outlinewidth": 0,
              "ticks": ""
             }
            },
            "type": "scatterternary"
           }
          ],
          "surface": [
           {
            "colorbar": {
             "outlinewidth": 0,
             "ticks": ""
            },
            "colorscale": [
             [
              0,
              "#0d0887"
             ],
             [
              0.1111111111111111,
              "#46039f"
             ],
             [
              0.2222222222222222,
              "#7201a8"
             ],
             [
              0.3333333333333333,
              "#9c179e"
             ],
             [
              0.4444444444444444,
              "#bd3786"
             ],
             [
              0.5555555555555556,
              "#d8576b"
             ],
             [
              0.6666666666666666,
              "#ed7953"
             ],
             [
              0.7777777777777778,
              "#fb9f3a"
             ],
             [
              0.8888888888888888,
              "#fdca26"
             ],
             [
              1,
              "#f0f921"
             ]
            ],
            "type": "surface"
           }
          ],
          "table": [
           {
            "cells": {
             "fill": {
              "color": "#EBF0F8"
             },
             "line": {
              "color": "white"
             }
            },
            "header": {
             "fill": {
              "color": "#C8D4E3"
             },
             "line": {
              "color": "white"
             }
            },
            "type": "table"
           }
          ]
         },
         "layout": {
          "annotationdefaults": {
           "arrowcolor": "#2a3f5f",
           "arrowhead": 0,
           "arrowwidth": 1
          },
          "coloraxis": {
           "colorbar": {
            "outlinewidth": 0,
            "ticks": ""
           }
          },
          "colorscale": {
           "diverging": [
            [
             0,
             "#8e0152"
            ],
            [
             0.1,
             "#c51b7d"
            ],
            [
             0.2,
             "#de77ae"
            ],
            [
             0.3,
             "#f1b6da"
            ],
            [
             0.4,
             "#fde0ef"
            ],
            [
             0.5,
             "#f7f7f7"
            ],
            [
             0.6,
             "#e6f5d0"
            ],
            [
             0.7,
             "#b8e186"
            ],
            [
             0.8,
             "#7fbc41"
            ],
            [
             0.9,
             "#4d9221"
            ],
            [
             1,
             "#276419"
            ]
           ],
           "sequential": [
            [
             0,
             "#0d0887"
            ],
            [
             0.1111111111111111,
             "#46039f"
            ],
            [
             0.2222222222222222,
             "#7201a8"
            ],
            [
             0.3333333333333333,
             "#9c179e"
            ],
            [
             0.4444444444444444,
             "#bd3786"
            ],
            [
             0.5555555555555556,
             "#d8576b"
            ],
            [
             0.6666666666666666,
             "#ed7953"
            ],
            [
             0.7777777777777778,
             "#fb9f3a"
            ],
            [
             0.8888888888888888,
             "#fdca26"
            ],
            [
             1,
             "#f0f921"
            ]
           ],
           "sequentialminus": [
            [
             0,
             "#0d0887"
            ],
            [
             0.1111111111111111,
             "#46039f"
            ],
            [
             0.2222222222222222,
             "#7201a8"
            ],
            [
             0.3333333333333333,
             "#9c179e"
            ],
            [
             0.4444444444444444,
             "#bd3786"
            ],
            [
             0.5555555555555556,
             "#d8576b"
            ],
            [
             0.6666666666666666,
             "#ed7953"
            ],
            [
             0.7777777777777778,
             "#fb9f3a"
            ],
            [
             0.8888888888888888,
             "#fdca26"
            ],
            [
             1,
             "#f0f921"
            ]
           ]
          },
          "colorway": [
           "#636efa",
           "#EF553B",
           "#00cc96",
           "#ab63fa",
           "#FFA15A",
           "#19d3f3",
           "#FF6692",
           "#B6E880",
           "#FF97FF",
           "#FECB52"
          ],
          "font": {
           "color": "#2a3f5f"
          },
          "geo": {
           "bgcolor": "white",
           "lakecolor": "white",
           "landcolor": "#E5ECF6",
           "showlakes": true,
           "showland": true,
           "subunitcolor": "white"
          },
          "hoverlabel": {
           "align": "left"
          },
          "hovermode": "closest",
          "mapbox": {
           "style": "light"
          },
          "paper_bgcolor": "white",
          "plot_bgcolor": "#E5ECF6",
          "polar": {
           "angularaxis": {
            "gridcolor": "white",
            "linecolor": "white",
            "ticks": ""
           },
           "bgcolor": "#E5ECF6",
           "radialaxis": {
            "gridcolor": "white",
            "linecolor": "white",
            "ticks": ""
           }
          },
          "scene": {
           "xaxis": {
            "backgroundcolor": "#E5ECF6",
            "gridcolor": "white",
            "gridwidth": 2,
            "linecolor": "white",
            "showbackground": true,
            "ticks": "",
            "zerolinecolor": "white"
           },
           "yaxis": {
            "backgroundcolor": "#E5ECF6",
            "gridcolor": "white",
            "gridwidth": 2,
            "linecolor": "white",
            "showbackground": true,
            "ticks": "",
            "zerolinecolor": "white"
           },
           "zaxis": {
            "backgroundcolor": "#E5ECF6",
            "gridcolor": "white",
            "gridwidth": 2,
            "linecolor": "white",
            "showbackground": true,
            "ticks": "",
            "zerolinecolor": "white"
           }
          },
          "shapedefaults": {
           "line": {
            "color": "#2a3f5f"
           }
          },
          "ternary": {
           "aaxis": {
            "gridcolor": "white",
            "linecolor": "white",
            "ticks": ""
           },
           "baxis": {
            "gridcolor": "white",
            "linecolor": "white",
            "ticks": ""
           },
           "bgcolor": "#E5ECF6",
           "caxis": {
            "gridcolor": "white",
            "linecolor": "white",
            "ticks": ""
           }
          },
          "title": {
           "x": 0.05
          },
          "xaxis": {
           "automargin": true,
           "gridcolor": "white",
           "linecolor": "white",
           "ticks": "",
           "title": {
            "standoff": 15
           },
           "zerolinecolor": "white",
           "zerolinewidth": 2
          },
          "yaxis": {
           "automargin": true,
           "gridcolor": "white",
           "linecolor": "white",
           "ticks": "",
           "title": {
            "standoff": 15
           },
           "zerolinecolor": "white",
           "zerolinewidth": 2
          }
         }
        }
       }
      },
      "text/html": [
       "<div>\n",
       "        \n",
       "        \n",
       "            <div id=\"896604ca-e5bf-4d6e-a783-c50469a2f670\" class=\"plotly-graph-div\" style=\"height:525px; width:100%;\"></div>\n",
       "            <script type=\"text/javascript\">\n",
       "                require([\"plotly\"], function(Plotly) {\n",
       "                    window.PLOTLYENV=window.PLOTLYENV || {};\n",
       "                    \n",
       "                if (document.getElementById(\"896604ca-e5bf-4d6e-a783-c50469a2f670\")) {\n",
       "                    Plotly.newPlot(\n",
       "                        '896604ca-e5bf-4d6e-a783-c50469a2f670',\n",
       "                        [{\"lat\": [50.033333, 49.012798, 24.433000564575195, 25.252799987800003, 22.57710075378418, 24.26469993591309, 25.0777, 35.764701843299996, 33.585899353027344, 35.552299, 35.1795005798, 14.5086, 43.35210037231445, 55.972599, 11.546600341796875, 13.410699844400003, 22.308901000000002, 19.897300720214844, 15.132100105285645, 17.988300323500003, 22.149599, 13.912599563599999, 16.043899536132812, 21.221200942993164, 16.401500701899998, 10.1698, 10.8187999725, 16.907300949099998, -6.1255698204, 2.7455799579619997, 1.35019, -37.673302, -33.94609832763672, 40.0801010131836, 23.39240074157715, 22.60829925537109, 25.101944399999997, 24.54400062561035, 25.935100555419922, 30.22949981689453, 30.578500747680664, 31.143400192260746, 13.681099891662598, 37.46910095214844, 34.8583984375, 34.42729949951172, 55.40879821777344, 11.75, 17.515, 9.95802997234, 9.177667, 15.4033002853, 13.0495996475, 12.668299675, 20.81940078735352, 11.99820041656494, 8.73183, 10.085100173999999, 21.3974990845, 13.955, 14.00450038909912, 18.7376003265, 27.912201, 25.273056, null], \"lon\": [8.570556, 2.55, 54.651100158691406, 55.3643989563, 120.3499984741211, 120.62100219726562, 121.233002, 140.386001587, 130.45100402832028, 139.779999, 128.93800354, 121.019997, 77.04049682617188, 37.4146, 104.84400177001952, 103.81300354, 113.915001, 102.16100311279295, 105.78099822998048, 102.56300354, 113.592003, 100.607002258, 108.1989974975586, 105.80699920654295, 107.70300293, 103.9931, 106.652000427, 96.1332015991, 106.65599823, 101.70999908446998, 103.994003, 144.843002, 151.177001953125, 116.58499908447266, 113.29900360107422, 108.1719970703125, 102.9291667, 118.12799835205078, 119.66300201416016, 120.43399810791016, 103.9469985961914, 121.80500030517578, 100.74700164794922, 126.45099639892578, 136.80499267578122, 135.24400329589844, 37.90629959106445, 108.366997, 106.590556, 105.132379532, 105.177778, 108.706001282, 109.333999634, 108.120002747, 106.7249984741211, 109.21900177001952, 106.633003, 105.711997986, 103.008003235, 109.042, 108.01699829101562, 105.67099762, 120.851997, 51.608056, null], \"marker\": {\"size\": [4, 4, 2, 2, 4, 4, 4, 4, 4, 4, 4, 4, 2, 4, 4, 6, 6, 2, 2, 4, 4, 4, 40, 92, 4, 6, 108, 4, 2, 4, 6, 2, 2, 4, 6, 4, 2, 2, 2, 2, 4, 6, 4, 6, 4, 4, 6, 6, 4, 2, 2, 4, 4, 8, 4, 8, 4, 6, 2, 4, 6, 10, 2, 2, 2], \"sizemode\": \"area\", \"sizeref\": 0.1}, \"mode\": \"markers\", \"text\": [\"Frankfurt am Main Airport\", \"Charles de Gaulle International Airport\", \"Abu Dhabi International Airport\", \"Dubai International Airport\", \"Kaohsiung International Airport\", \"Taichung Ching Chuang Kang Airport\", \"Taiwan Taoyuan International Airport\", \"Narita International Airport\", \"Fukuoka Airport\", \"Tokyo Haneda International Airport\", \"Gimhae International Airport\", \"Ninoy Aquino International Airport\", \"Almaty Airport\", \"Sheremetyevo International Airport\", \"Phnom Penh International Airport\", \"Siem Reap International Airport\", \"Hong Kong International Airport\", \"Luang Phabang International Airport\", \"Pakse International Airport\", \"Wattay International Airport\", \"Macau International Airport\", \"Don Mueang International Airport\", \"Da Nang International Airport\", \"Noi Bai International Airport\", \"Phu Bai Airport\", \"Phu Quoc International Airport\", \"Tan Son Nhat International Airport\", \"Yangon International Airport\", \"Soekarno-Hatta International Airport\", \"Kuala Lumpur International Airport\", \"Singapore Changi Airport\", \"Melbourne International Airport\", \"Sydney Kingsford Smith International Airport\", \"Beijing Capital International Airport\", \"Guangzhou Baiyun International Airport\", \"Nanning Wuxu Airport\", \"Kunming Changshui International Airport\", \"Xiamen Gaoqi International Airport\", \"Fuzhou Changle International Airport\", \"Hangzhou Xiaoshan International Airport\", \"Chengdu Shuangliu International Airport\", \"Shanghai Pudong International Airport\", \"Suvarnabhumi Airport\", \"Incheon International Airport\", \"Chubu Centrair International Airport\", \"Kansai International Airport\", \"Domodedovo International Airport\", \"Lien Khuong Airport\", \"Dong Hoi Airport\", \"Rach Gia Airport\", \"C\\u00e0 Mau Airport\", \"Chu Lai International Airport\", \"Dong Tac Airport\", \"Buon Ma Thuot Airport\", \"Cat Bi International Airport\", \"Cam Ranh Airport\", \"Co Ong Airport\", \"Can Tho International Airport\", \"Dien Bien Phu Airport\", \"Phu Cat Airport\", \"Pleiku Airport\", \"Vinh Airport\", \"Wenzhou Longwan International Airport\", \"Hamad International Airport\", null], \"type\": \"scattermapbox\"}, {\"hoverinfo\": \"none\", \"line\": {\"color\": \"red\", \"width\": 5}, \"mode\": \"lines\", \"type\": \"scatter\", \"x\": [77.04049682617188, 106.652000427, null, 54.651100158691406, 106.652000427, null, 100.74700164794922, 105.80699920654295, null, 100.74700164794922, 106.652000427, null, 108.120002747, 108.1989974975586, null, 108.120002747, 105.80699920654295, null, 108.120002747, 106.652000427, null, 108.120002747, 105.67099762, null, 105.177778, 106.652000427, null, 113.29900360107422, 108.1989974975586, null, 113.29900360107422, 105.80699920654295, null, 113.29900360107422, 106.652000427, null, 2.55, 105.80699920654295, null, 2.55, 106.652000427, null, 106.65599823, 106.652000427, null, 103.9469985961914, 108.1989974975586, null, 103.9469985961914, 105.80699920654295, null, 109.21900177001952, 108.1989974975586, null, 109.21900177001952, 37.90629959106445, null, 109.21900177001952, 105.80699920654295, null, 109.21900177001952, 106.652000427, null, 108.1989974975586, 108.366997, null, 108.1989974975586, 105.80699920654295, null, 108.1989974975586, 120.43399810791016, null, 108.1989974975586, 113.915001, null, 108.1989974975586, 106.7249984741211, null, 108.1989974975586, 126.45099639892578, null, 108.1989974975586, 102.9291667, null, 108.1989974975586, 113.592003, null, 108.1989974975586, 121.80500030517578, null, 108.1989974975586, 108.01699829101562, null, 108.1989974975586, 103.81300354, null, 108.1989974975586, 106.652000427, null, 108.1989974975586, 103.994003, null, 108.1989974975586, 105.67099762, null, 108.1989974975586, 120.851997, null, 108.1989974975586, 118.12799835205078, null, 103.008003235, 105.80699920654295, null, 108.366997, 105.80699920654295, null, 108.366997, 106.652000427, null, 37.90629959106445, 105.80699920654295, null, 37.90629959106445, 106.652000427, null, 100.607002258, 105.80699920654295, null, 100.607002258, 106.652000427, null, 51.608056, 106.652000427, null, 55.3643989563, 106.652000427, null, 119.66300201416016, 106.652000427, null, 8.570556, 105.80699920654295, null, 8.570556, 106.652000427, null, 130.45100402832028, 105.80699920654295, null, 130.45100402832028, 106.652000427, null, 105.80699920654295, 113.915001, null, 105.80699920654295, 139.779999, null, 105.80699920654295, 107.70300293, null, 105.80699920654295, 126.45099639892578, null, 105.80699920654295, 120.3499984741211, null, 105.80699920654295, 135.24400329589844, null, 105.80699920654295, 101.70999908446998, null, 105.80699920654295, 102.16100311279295, null, 105.80699920654295, 113.592003, null, 105.80699920654295, 121.019997, null, 105.80699920654295, 136.80499267578122, null, 105.80699920654295, 108.1719970703125, null, 105.80699920654295, 140.386001587, null, 105.80699920654295, 116.58499908447266, null, 105.80699920654295, 104.84400177001952, null, 105.80699920654295, 103.9931, null, 105.80699920654295, 128.93800354, null, 105.80699920654295, 121.80500030517578, null, 105.80699920654295, 108.01699829101562, null, 105.80699920654295, 103.81300354, null, 105.80699920654295, 96.1332015991, null, 105.80699920654295, 120.62100219726562, null, 105.80699920654295, 106.652000427, null, 105.80699920654295, 103.994003, null, 105.80699920654295, 37.4146, null, 105.80699920654295, 109.333999634, null, 105.80699920654295, 121.233002, null, 105.80699920654295, 109.042, null, 105.80699920654295, 105.711997986, null, 105.80699920654295, 108.706001282, null, 105.80699920654295, 106.590556, null, 105.80699920654295, 105.67099762, null, 105.80699920654295, 102.56300354, null, 113.915001, 106.652000427, null, 139.779999, 106.652000427, null, 106.7249984741211, 106.652000427, null, 107.70300293, 106.652000427, null, 126.45099639892578, 106.652000427, null, 120.3499984741211, 106.652000427, null, 135.24400329589844, 106.652000427, null, 101.70999908446998, 106.652000427, null, 144.843002, 106.652000427, null, 121.019997, 106.652000427, null, 136.80499267578122, 106.652000427, null, 108.1719970703125, 106.652000427, null, 140.386001587, 106.652000427, null, 116.58499908447266, 106.652000427, null, 105.78099822998048, 106.652000427, null, 104.84400177001952, 106.652000427, null, 103.9931, 106.652000427, null, 103.9931, 105.711997986, null, 128.93800354, 106.652000427, null, 121.80500030517578, 106.652000427, null, 108.01699829101562, 106.652000427, null, 103.81300354, 106.652000427, null, 96.1332015991, 106.652000427, null, 120.62100219726562, 106.652000427, null, 106.652000427, 103.994003, null, 106.652000427, 37.4146, null, 106.652000427, 151.177001953125, null, 106.652000427, 109.333999634, null, 106.652000427, null, null, 106.652000427, 121.233002, null, 106.652000427, 109.042, null, 106.652000427, 108.706001282, null, 106.652000427, 106.633003, null, 106.652000427, 106.590556, null, 106.652000427, 105.67099762, null, 106.652000427, 105.132379532, null, 105.711997986, 106.633003, null, 105.67099762, 102.56300354, null], \"y\": [43.35210037231445, 10.8187999725, null, 24.433000564575195, 10.8187999725, null, 13.681099891662598, 21.221200942993164, null, 13.681099891662598, 10.8187999725, null, 12.668299675, 16.043899536132812, null, 12.668299675, 21.221200942993164, null, 12.668299675, 10.8187999725, null, 12.668299675, 18.7376003265, null, 9.177667, 10.8187999725, null, 23.39240074157715, 16.043899536132812, null, 23.39240074157715, 21.221200942993164, null, 23.39240074157715, 10.8187999725, null, 49.012798, 21.221200942993164, null, 49.012798, 10.8187999725, null, -6.1255698204, 10.8187999725, null, 30.578500747680664, 16.043899536132812, null, 30.578500747680664, 21.221200942993164, null, 11.99820041656494, 16.043899536132812, null, 11.99820041656494, 55.40879821777344, null, 11.99820041656494, 21.221200942993164, null, 11.99820041656494, 10.8187999725, null, 16.043899536132812, 11.75, null, 16.043899536132812, 21.221200942993164, null, 16.043899536132812, 30.22949981689453, null, 16.043899536132812, 22.308901000000002, null, 16.043899536132812, 20.81940078735352, null, 16.043899536132812, 37.46910095214844, null, 16.043899536132812, 25.101944399999997, null, 16.043899536132812, 22.149599, null, 16.043899536132812, 31.143400192260746, null, 16.043899536132812, 14.00450038909912, null, 16.043899536132812, 13.410699844400003, null, 16.043899536132812, 10.8187999725, null, 16.043899536132812, 1.35019, null, 16.043899536132812, 18.7376003265, null, 16.043899536132812, 27.912201, null, 16.043899536132812, 24.54400062561035, null, 21.3974990845, 21.221200942993164, null, 11.75, 21.221200942993164, null, 11.75, 10.8187999725, null, 55.40879821777344, 21.221200942993164, null, 55.40879821777344, 10.8187999725, null, 13.912599563599999, 21.221200942993164, null, 13.912599563599999, 10.8187999725, null, 25.273056, 10.8187999725, null, 25.252799987800003, 10.8187999725, null, 25.935100555419922, 10.8187999725, null, 50.033333, 21.221200942993164, null, 50.033333, 10.8187999725, null, 33.585899353027344, 21.221200942993164, null, 33.585899353027344, 10.8187999725, null, 21.221200942993164, 22.308901000000002, null, 21.221200942993164, 35.552299, null, 21.221200942993164, 16.401500701899998, null, 21.221200942993164, 37.46910095214844, null, 21.221200942993164, 22.57710075378418, null, 21.221200942993164, 34.42729949951172, null, 21.221200942993164, 2.7455799579619997, null, 21.221200942993164, 19.897300720214844, null, 21.221200942993164, 22.149599, null, 21.221200942993164, 14.5086, null, 21.221200942993164, 34.8583984375, null, 21.221200942993164, 22.60829925537109, null, 21.221200942993164, 35.764701843299996, null, 21.221200942993164, 40.0801010131836, null, 21.221200942993164, 11.546600341796875, null, 21.221200942993164, 10.1698, null, 21.221200942993164, 35.1795005798, null, 21.221200942993164, 31.143400192260746, null, 21.221200942993164, 14.00450038909912, null, 21.221200942993164, 13.410699844400003, null, 21.221200942993164, 16.907300949099998, null, 21.221200942993164, 24.26469993591309, null, 21.221200942993164, 10.8187999725, null, 21.221200942993164, 1.35019, null, 21.221200942993164, 55.972599, null, 21.221200942993164, 13.0495996475, null, 21.221200942993164, 25.0777, null, 21.221200942993164, 13.955, null, 21.221200942993164, 10.085100173999999, null, 21.221200942993164, 15.4033002853, null, 21.221200942993164, 17.515, null, 21.221200942993164, 18.7376003265, null, 21.221200942993164, 17.988300323500003, null, 22.308901000000002, 10.8187999725, null, 35.552299, 10.8187999725, null, 20.81940078735352, 10.8187999725, null, 16.401500701899998, 10.8187999725, null, 37.46910095214844, 10.8187999725, null, 22.57710075378418, 10.8187999725, null, 34.42729949951172, 10.8187999725, null, 2.7455799579619997, 10.8187999725, null, -37.673302, 10.8187999725, null, 14.5086, 10.8187999725, null, 34.8583984375, 10.8187999725, null, 22.60829925537109, 10.8187999725, null, 35.764701843299996, 10.8187999725, null, 40.0801010131836, 10.8187999725, null, 15.132100105285645, 10.8187999725, null, 11.546600341796875, 10.8187999725, null, 10.1698, 10.8187999725, null, 10.1698, 10.085100173999999, null, 35.1795005798, 10.8187999725, null, 31.143400192260746, 10.8187999725, null, 14.00450038909912, 10.8187999725, null, 13.410699844400003, 10.8187999725, null, 16.907300949099998, 10.8187999725, null, 24.26469993591309, 10.8187999725, null, 10.8187999725, 1.35019, null, 10.8187999725, 55.972599, null, 10.8187999725, -33.94609832763672, null, 10.8187999725, 13.0495996475, null, 10.8187999725, null, null, 10.8187999725, 25.0777, null, 10.8187999725, 13.955, null, 10.8187999725, 15.4033002853, null, 10.8187999725, 8.73183, null, 10.8187999725, 17.515, null, 10.8187999725, 18.7376003265, null, 10.8187999725, 9.95802997234, null, 10.085100173999999, 8.73183, null, 18.7376003265, 17.988300323500003, null]}],\n",
       "                        {\"hovermode\": \"closest\", \"mapbox\": {\"accesstoken\": \"pk.eyJ1IjoidGFpbmd1eWVuNzU5NyIsImEiOiJjazhtNW44b2MwazRlM2xwaGMyNnZ3Z3Q1In0.3w5rF6awL9ewLph5PH-r1g\\n\", \"bearing\": 0, \"center\": {\"lat\": 16, \"lon\": 107}, \"pitch\": 0, \"zoom\": 5}, \"template\": {\"data\": {\"bar\": [{\"error_x\": {\"color\": \"#2a3f5f\"}, \"error_y\": {\"color\": \"#2a3f5f\"}, \"marker\": {\"line\": {\"color\": \"#E5ECF6\", \"width\": 0.5}}, \"type\": \"bar\"}], \"barpolar\": [{\"marker\": {\"line\": {\"color\": \"#E5ECF6\", \"width\": 0.5}}, \"type\": \"barpolar\"}], \"carpet\": [{\"aaxis\": {\"endlinecolor\": \"#2a3f5f\", \"gridcolor\": \"white\", \"linecolor\": \"white\", \"minorgridcolor\": \"white\", \"startlinecolor\": \"#2a3f5f\"}, \"baxis\": {\"endlinecolor\": \"#2a3f5f\", \"gridcolor\": \"white\", \"linecolor\": \"white\", \"minorgridcolor\": \"white\", \"startlinecolor\": \"#2a3f5f\"}, \"type\": \"carpet\"}], \"choropleth\": [{\"colorbar\": {\"outlinewidth\": 0, \"ticks\": \"\"}, \"type\": \"choropleth\"}], \"contour\": [{\"colorbar\": {\"outlinewidth\": 0, \"ticks\": \"\"}, \"colorscale\": [[0.0, \"#0d0887\"], [0.1111111111111111, \"#46039f\"], [0.2222222222222222, \"#7201a8\"], [0.3333333333333333, \"#9c179e\"], [0.4444444444444444, \"#bd3786\"], [0.5555555555555556, \"#d8576b\"], [0.6666666666666666, \"#ed7953\"], [0.7777777777777778, \"#fb9f3a\"], [0.8888888888888888, \"#fdca26\"], [1.0, \"#f0f921\"]], \"type\": \"contour\"}], \"contourcarpet\": [{\"colorbar\": {\"outlinewidth\": 0, \"ticks\": \"\"}, \"type\": \"contourcarpet\"}], \"heatmap\": [{\"colorbar\": {\"outlinewidth\": 0, \"ticks\": \"\"}, \"colorscale\": [[0.0, \"#0d0887\"], [0.1111111111111111, \"#46039f\"], [0.2222222222222222, \"#7201a8\"], [0.3333333333333333, \"#9c179e\"], [0.4444444444444444, \"#bd3786\"], [0.5555555555555556, \"#d8576b\"], [0.6666666666666666, \"#ed7953\"], [0.7777777777777778, \"#fb9f3a\"], [0.8888888888888888, \"#fdca26\"], [1.0, \"#f0f921\"]], \"type\": \"heatmap\"}], \"heatmapgl\": [{\"colorbar\": {\"outlinewidth\": 0, \"ticks\": \"\"}, \"colorscale\": [[0.0, \"#0d0887\"], [0.1111111111111111, \"#46039f\"], [0.2222222222222222, \"#7201a8\"], [0.3333333333333333, \"#9c179e\"], [0.4444444444444444, \"#bd3786\"], [0.5555555555555556, \"#d8576b\"], [0.6666666666666666, \"#ed7953\"], [0.7777777777777778, \"#fb9f3a\"], [0.8888888888888888, \"#fdca26\"], [1.0, \"#f0f921\"]], \"type\": \"heatmapgl\"}], \"histogram\": [{\"marker\": {\"colorbar\": {\"outlinewidth\": 0, \"ticks\": \"\"}}, \"type\": \"histogram\"}], \"histogram2d\": [{\"colorbar\": {\"outlinewidth\": 0, \"ticks\": \"\"}, \"colorscale\": [[0.0, \"#0d0887\"], [0.1111111111111111, \"#46039f\"], [0.2222222222222222, \"#7201a8\"], [0.3333333333333333, \"#9c179e\"], [0.4444444444444444, \"#bd3786\"], [0.5555555555555556, \"#d8576b\"], [0.6666666666666666, \"#ed7953\"], [0.7777777777777778, \"#fb9f3a\"], [0.8888888888888888, \"#fdca26\"], [1.0, \"#f0f921\"]], \"type\": \"histogram2d\"}], \"histogram2dcontour\": [{\"colorbar\": {\"outlinewidth\": 0, \"ticks\": \"\"}, \"colorscale\": [[0.0, \"#0d0887\"], [0.1111111111111111, \"#46039f\"], [0.2222222222222222, \"#7201a8\"], [0.3333333333333333, \"#9c179e\"], [0.4444444444444444, \"#bd3786\"], [0.5555555555555556, \"#d8576b\"], [0.6666666666666666, \"#ed7953\"], [0.7777777777777778, \"#fb9f3a\"], [0.8888888888888888, \"#fdca26\"], [1.0, \"#f0f921\"]], \"type\": \"histogram2dcontour\"}], \"mesh3d\": [{\"colorbar\": {\"outlinewidth\": 0, \"ticks\": \"\"}, \"type\": \"mesh3d\"}], \"parcoords\": [{\"line\": {\"colorbar\": {\"outlinewidth\": 0, \"ticks\": \"\"}}, \"type\": \"parcoords\"}], \"pie\": [{\"automargin\": true, \"type\": \"pie\"}], \"scatter\": [{\"marker\": {\"colorbar\": {\"outlinewidth\": 0, \"ticks\": \"\"}}, \"type\": \"scatter\"}], \"scatter3d\": [{\"line\": {\"colorbar\": {\"outlinewidth\": 0, \"ticks\": \"\"}}, \"marker\": {\"colorbar\": {\"outlinewidth\": 0, \"ticks\": \"\"}}, \"type\": \"scatter3d\"}], \"scattercarpet\": [{\"marker\": {\"colorbar\": {\"outlinewidth\": 0, \"ticks\": \"\"}}, \"type\": \"scattercarpet\"}], \"scattergeo\": [{\"marker\": {\"colorbar\": {\"outlinewidth\": 0, \"ticks\": \"\"}}, \"type\": \"scattergeo\"}], \"scattergl\": [{\"marker\": {\"colorbar\": {\"outlinewidth\": 0, \"ticks\": \"\"}}, \"type\": \"scattergl\"}], \"scattermapbox\": [{\"marker\": {\"colorbar\": {\"outlinewidth\": 0, \"ticks\": \"\"}}, \"type\": \"scattermapbox\"}], \"scatterpolar\": [{\"marker\": {\"colorbar\": {\"outlinewidth\": 0, \"ticks\": \"\"}}, \"type\": \"scatterpolar\"}], \"scatterpolargl\": [{\"marker\": {\"colorbar\": {\"outlinewidth\": 0, \"ticks\": \"\"}}, \"type\": \"scatterpolargl\"}], \"scatterternary\": [{\"marker\": {\"colorbar\": {\"outlinewidth\": 0, \"ticks\": \"\"}}, \"type\": \"scatterternary\"}], \"surface\": [{\"colorbar\": {\"outlinewidth\": 0, \"ticks\": \"\"}, \"colorscale\": [[0.0, \"#0d0887\"], [0.1111111111111111, \"#46039f\"], [0.2222222222222222, \"#7201a8\"], [0.3333333333333333, \"#9c179e\"], [0.4444444444444444, \"#bd3786\"], [0.5555555555555556, \"#d8576b\"], [0.6666666666666666, \"#ed7953\"], [0.7777777777777778, \"#fb9f3a\"], [0.8888888888888888, \"#fdca26\"], [1.0, \"#f0f921\"]], \"type\": \"surface\"}], \"table\": [{\"cells\": {\"fill\": {\"color\": \"#EBF0F8\"}, \"line\": {\"color\": \"white\"}}, \"header\": {\"fill\": {\"color\": \"#C8D4E3\"}, \"line\": {\"color\": \"white\"}}, \"type\": \"table\"}]}, \"layout\": {\"annotationdefaults\": {\"arrowcolor\": \"#2a3f5f\", \"arrowhead\": 0, \"arrowwidth\": 1}, \"coloraxis\": {\"colorbar\": {\"outlinewidth\": 0, \"ticks\": \"\"}}, \"colorscale\": {\"diverging\": [[0, \"#8e0152\"], [0.1, \"#c51b7d\"], [0.2, \"#de77ae\"], [0.3, \"#f1b6da\"], [0.4, \"#fde0ef\"], [0.5, \"#f7f7f7\"], [0.6, \"#e6f5d0\"], [0.7, \"#b8e186\"], [0.8, \"#7fbc41\"], [0.9, \"#4d9221\"], [1, \"#276419\"]], \"sequential\": [[0.0, \"#0d0887\"], [0.1111111111111111, \"#46039f\"], [0.2222222222222222, \"#7201a8\"], [0.3333333333333333, \"#9c179e\"], [0.4444444444444444, \"#bd3786\"], [0.5555555555555556, \"#d8576b\"], [0.6666666666666666, \"#ed7953\"], [0.7777777777777778, \"#fb9f3a\"], [0.8888888888888888, \"#fdca26\"], [1.0, \"#f0f921\"]], \"sequentialminus\": [[0.0, \"#0d0887\"], [0.1111111111111111, \"#46039f\"], [0.2222222222222222, \"#7201a8\"], [0.3333333333333333, \"#9c179e\"], [0.4444444444444444, \"#bd3786\"], [0.5555555555555556, \"#d8576b\"], [0.6666666666666666, \"#ed7953\"], [0.7777777777777778, \"#fb9f3a\"], [0.8888888888888888, \"#fdca26\"], [1.0, \"#f0f921\"]]}, \"colorway\": [\"#636efa\", \"#EF553B\", \"#00cc96\", \"#ab63fa\", \"#FFA15A\", \"#19d3f3\", \"#FF6692\", \"#B6E880\", \"#FF97FF\", \"#FECB52\"], \"font\": {\"color\": \"#2a3f5f\"}, \"geo\": {\"bgcolor\": \"white\", \"lakecolor\": \"white\", \"landcolor\": \"#E5ECF6\", \"showlakes\": true, \"showland\": true, \"subunitcolor\": \"white\"}, \"hoverlabel\": {\"align\": \"left\"}, \"hovermode\": \"closest\", \"mapbox\": {\"style\": \"light\"}, \"paper_bgcolor\": \"white\", \"plot_bgcolor\": \"#E5ECF6\", \"polar\": {\"angularaxis\": {\"gridcolor\": \"white\", \"linecolor\": \"white\", \"ticks\": \"\"}, \"bgcolor\": \"#E5ECF6\", \"radialaxis\": {\"gridcolor\": \"white\", \"linecolor\": \"white\", \"ticks\": \"\"}}, \"scene\": {\"xaxis\": {\"backgroundcolor\": \"#E5ECF6\", \"gridcolor\": \"white\", \"gridwidth\": 2, \"linecolor\": \"white\", \"showbackground\": true, \"ticks\": \"\", \"zerolinecolor\": \"white\"}, \"yaxis\": {\"backgroundcolor\": \"#E5ECF6\", \"gridcolor\": \"white\", \"gridwidth\": 2, \"linecolor\": \"white\", \"showbackground\": true, \"ticks\": \"\", \"zerolinecolor\": \"white\"}, \"zaxis\": {\"backgroundcolor\": \"#E5ECF6\", \"gridcolor\": \"white\", \"gridwidth\": 2, \"linecolor\": \"white\", \"showbackground\": true, \"ticks\": \"\", \"zerolinecolor\": \"white\"}}, \"shapedefaults\": {\"line\": {\"color\": \"#2a3f5f\"}}, \"ternary\": {\"aaxis\": {\"gridcolor\": \"white\", \"linecolor\": \"white\", \"ticks\": \"\"}, \"baxis\": {\"gridcolor\": \"white\", \"linecolor\": \"white\", \"ticks\": \"\"}, \"bgcolor\": \"#E5ECF6\", \"caxis\": {\"gridcolor\": \"white\", \"linecolor\": \"white\", \"ticks\": \"\"}}, \"title\": {\"x\": 0.05}, \"xaxis\": {\"automargin\": true, \"gridcolor\": \"white\", \"linecolor\": \"white\", \"ticks\": \"\", \"title\": {\"standoff\": 15}, \"zerolinecolor\": \"white\", \"zerolinewidth\": 2}, \"yaxis\": {\"automargin\": true, \"gridcolor\": \"white\", \"linecolor\": \"white\", \"ticks\": \"\", \"title\": {\"standoff\": 15}, \"zerolinecolor\": \"white\", \"zerolinewidth\": 2}}}},\n",
       "                        {\"responsive\": true}\n",
       "                    ).then(function(){\n",
       "                            \n",
       "var gd = document.getElementById('896604ca-e5bf-4d6e-a783-c50469a2f670');\n",
       "var x = new MutationObserver(function (mutations, observer) {{\n",
       "        var display = window.getComputedStyle(gd).display;\n",
       "        if (!display || display === 'none') {{\n",
       "            console.log([gd, 'removed!']);\n",
       "            Plotly.purge(gd);\n",
       "            observer.disconnect();\n",
       "        }}\n",
       "}});\n",
       "\n",
       "// Listen for the removal of the full notebook cells\n",
       "var notebookContainer = gd.closest('#notebook-container');\n",
       "if (notebookContainer) {{\n",
       "    x.observe(notebookContainer, {childList: true});\n",
       "}}\n",
       "\n",
       "// Listen for the clearing of the current output cell\n",
       "var outputEl = gd.closest('.output');\n",
       "if (outputEl) {{\n",
       "    x.observe(outputEl, {childList: true});\n",
       "}}\n",
       "\n",
       "                        })\n",
       "                };\n",
       "                });\n",
       "            </script>\n",
       "        </div>"
      ]
     },
     "metadata": {},
     "output_type": "display_data"
    }
   ],
   "source": [
    "mapbox_access_token = open(\".mapbox_token\").read()\n",
    "\n",
    "fig = go.Figure()\n",
    "\n",
    "# Add nodes\n",
    "fig.add_trace(go.Scattermapbox(\n",
    "    lat=node_df['Lat'],\n",
    "    lon=node_df['Long'],\n",
    "    mode='markers',\n",
    "    marker=go.scattermapbox.Marker(\n",
    "        size=node_df['flight_count'],\n",
    "        sizeref=0.1,\n",
    "        sizemode=\"area\",\n",
    "    ),\n",
    "    text=node_df['Name'],\n",
    "))\n",
    "\n",
    "\n",
    "\n",
    "\n",
    "fig.update_layout(\n",
    "    hovermode='closest',\n",
    "    mapbox=dict(\n",
    "        accesstoken=mapbox_access_token,\n",
    "        bearing=0,\n",
    "        center=dict(\n",
    "            lat=16,\n",
    "            lon=107\n",
    "        ),\n",
    "        pitch=0,\n",
    "        zoom=5\n",
    "    )\n",
    ")\n",
    "\n",
    "fig.show()"
   ]
  }
 ],
 "metadata": {
  "kernelspec": {
   "display_name": "Python 3",
   "language": "python",
   "name": "python3"
  },
  "language_info": {
   "codemirror_mode": {
    "name": "ipython",
    "version": 3
   },
   "file_extension": ".py",
   "mimetype": "text/x-python",
   "name": "python",
   "nbconvert_exporter": "python",
   "pygments_lexer": "ipython3",
   "version": "3.7.4"
  }
 },
 "nbformat": 4,
 "nbformat_minor": 4
}
